{
 "cells": [
  {
   "cell_type": "code",
   "execution_count": 8,
   "id": "72b0fe2a-42a5-4799-b946-4d392b6f1f92",
   "metadata": {
    "tags": []
   },
   "outputs": [],
   "source": [
    "#импортируем библиотеку pandas для работы с большими данными\n",
    "import pandas as pd"
   ]
  },
  {
   "cell_type": "code",
   "execution_count": 9,
   "id": "4e00386a-7acb-46f1-8111-59bdc4170704",
   "metadata": {},
   "outputs": [],
   "source": [
    "#настраиваем отображение датафрейма, убирая ограничения  на ширину и длину столбца\n",
    "pd.set_option('display.max_columns',None)\n",
    "pd.set_option('display.max_colwidth',None)"
   ]
  },
  {
   "cell_type": "code",
   "execution_count": 131,
   "id": "889a0328-6ff7-4675-9dec-6d735e3c6787",
   "metadata": {},
   "outputs": [],
   "source": [
    "#загружаем наш датасет\n",
    "df = pd.read_excel('data.xlsx')"
   ]
  },
  {
   "cell_type": "code",
   "execution_count": 132,
   "id": "c36fb905-093a-4d45-8847-0827c50b42ed",
   "metadata": {},
   "outputs": [],
   "source": [
    "# делим каждый текст на токены\n",
    "df['tokens'] = df['message'].apply(lambda x: x.split())\n",
    "df['len'] = df['tokens'].apply(lambda x: len(x))\n",
    "#убираем текста, длиа которых больше 510 токенов\n",
    "df = df[df['len'] < 510]"
   ]
  },
  {
   "cell_type": "code",
   "execution_count": null,
   "id": "e2288766-c67b-4313-a479-ccd7a49d2324",
   "metadata": {},
   "outputs": [],
   "source": [
    "df.drop(columns = ['date_send','sender_role','age','id_room','tokens','len'])"
   ]
  },
  {
   "cell_type": "code",
   "execution_count": 1,
   "id": "97ef9e01-9a63-4515-9210-ba72bfbfdcb6",
   "metadata": {},
   "outputs": [],
   "source": [
    "from transformers import pipeline\n",
    "from transformers import AutoTokenizer, AutoModelForSequenceClassification"
   ]
  },
  {
   "cell_type": "code",
   "execution_count": null,
   "id": "88097c53-6946-48a8-adce-cac113828e6e",
   "metadata": {},
   "outputs": [],
   "source": [
    "# загрузка модели трансформера происходит следующим образом"
   ]
  },
  {
   "cell_type": "code",
   "execution_count": 2,
   "id": "cce55efa-56c1-4c2d-b32d-47fa1df32fb8",
   "metadata": {},
   "outputs": [],
   "source": [
    "tokenizer1 = AutoTokenizer.from_pretrained(\"blanchefort/rubert-base-cased-sentiment-rurewiews\")\n",
    "model1 = AutoModelForSequenceClassification.from_pretrained(\"blanchefort/rubert-base-cased-sentiment-rurewiews\")"
   ]
  },
  {
   "cell_type": "code",
   "execution_count": 5,
   "id": "c6727c72-bc2e-40f4-b470-5396fb02916a",
   "metadata": {},
   "outputs": [],
   "source": [
    "tokenizer2 = AutoTokenizer.from_pretrained(\"blanchefort/rubert-base-cased-sentiment\")\n",
    "model2 = AutoModelForSequenceClassification.from_pretrained(\"blanchefort/rubert-base-cased-sentiment\")"
   ]
  },
  {
   "cell_type": "code",
   "execution_count": 6,
   "id": "ab073662-1cc7-4ed9-8eff-db488b74a2ff",
   "metadata": {},
   "outputs": [],
   "source": [
    "tokenizer3 = AutoTokenizer.from_pretrained(\"cointegrated/rubert-tiny-sentiment-balanced\")\n",
    "model3 = AutoModelForSequenceClassification.from_pretrained(\"cointegrated/rubert-tiny-sentiment-balanced\")"
   ]
  },
  {
   "cell_type": "code",
   "execution_count": 109,
   "id": "fe9bc57f-c1aa-4d66-a075-2a9c01944544",
   "metadata": {},
   "outputs": [],
   "source": [
    "def classification(document):\n",
    "    #в пайплайне указывается задача, название модели и токенизатора, а top_k = 1 говорит о том, что нужно вывести только 1 наиболее подходящий класс\n",
    "    classifier = pipeline('text-classification', model = model1, tokenizer=tokenizer1, top_k = 1)\n",
    "    return classifier(document)"
   ]
  },
  {
   "cell_type": "code",
   "execution_count": 110,
   "id": "208dd9e1-5c57-4903-a260-e264a5740dce",
   "metadata": {},
   "outputs": [],
   "source": [
    "df['pred'] = df['message'].apply(lambda x: classification(x))"
   ]
  },
  {
   "cell_type": "code",
   "execution_count": 114,
   "id": "3a78fa64-238e-45da-9f38-b94f70cb01a2",
   "metadata": {},
   "outputs": [],
   "source": [
    "# проходи по всем значениям столбца \"pred\" и вытаскиваем всё, что расположено между \"label':, '\" и \"', 'score'\"\n",
    "df['pred'] = df['pred'].apply(lambda x: re.findall(r\"label': '([\\s\\S]+?)', 'score\", str(x), flags = re.I))\n",
    "# поскольку все найденные значения пишутся в квадратных скобках их в итоге тоже необходимо убрать\n",
    "df['pred'] = df['pred'].apply(lambda x: re.sub(\"[^A-Za-z0-2_]\", \"\", str(x)))"
   ]
  },
  {
   "cell_type": "code",
   "execution_count": null,
   "id": "8324a609-f97e-44c2-a8a1-39ae08e40bfa",
   "metadata": {},
   "outputs": [],
   "source": [
    "df['pred'] = df.pred.replace('neutral', 0).replace('positive', 1).replace('negative', 2)\n",
    "df['Target'] = df.Target.replace('Neutral', 0).replace('Good', 1).replace('Bad', 2)"
   ]
  },
  {
   "cell_type": "code",
   "execution_count": 36,
   "id": "066aa776-fe50-4dc4-9614-86f42798c487",
   "metadata": {},
   "outputs": [],
   "source": [
    "from sklearn.metrics import classification_report"
   ]
  },
  {
   "cell_type": "code",
   "execution_count": 126,
   "id": "ae54e957-7e79-481f-b104-be324d354dd9",
   "metadata": {},
   "outputs": [
    {
     "name": "stdout",
     "output_type": "stream",
     "text": [
      "              precision    recall  f1-score   support\n",
      "\n",
      "     Neutral       0.32      0.42      0.37       180\n",
      "    Positive       0.54      0.58      0.56       180\n",
      "    Negative       0.70      0.44      0.54       180\n",
      "\n",
      "    accuracy                           0.48       540\n",
      "   macro avg       0.52      0.48      0.49       540\n",
      "weighted avg       0.52      0.48      0.49       540\n",
      "\n"
     ]
    }
   ],
   "source": [
    "#необходимо привести сравниваемые столбцы к числовому формату и задать имена классов\n",
    "print(classification_report(pd.to_numeric(df['Target']),pd.to_numeric(df['pred']),target_names = ['Neutral','Positive','Negative']))"
   ]
  },
  {
   "cell_type": "code",
   "execution_count": null,
   "id": "49c56bd1-f9af-4d87-8769-c4394fc7b3c2",
   "metadata": {},
   "outputs": [],
   "source": [
    "df1 = df[df_new['Target'] == 0]\n",
    "df1 = df1[:180]"
   ]
  },
  {
   "cell_type": "code",
   "execution_count": null,
   "id": "1b688fa3-899a-47b7-bcc4-6d348cb8cd01",
   "metadata": {},
   "outputs": [],
   "source": [
    "df2 = df[df_new['Target'] == 1]\n",
    "df2 = df2[:180]"
   ]
  },
  {
   "cell_type": "code",
   "execution_count": 22,
   "id": "e3dfbecc-1f71-485f-9333-c8a5484579f7",
   "metadata": {},
   "outputs": [],
   "source": [
    "df3 = df[df_new['Target'] == 2]\n",
    "df3 = df3[:180]"
   ]
  },
  {
   "cell_type": "code",
   "execution_count": 107,
   "id": "0bd9c62e-e311-4982-83c6-d538913a6590",
   "metadata": {},
   "outputs": [],
   "source": [
    "new_df = pd.concat([df1, df2, df3], ignore_index=True)"
   ]
  },
  {
   "cell_type": "code",
   "execution_count": null,
   "id": "771486d8-56d2-42b7-83b7-985d6f588612",
   "metadata": {},
   "outputs": [],
   "source": [
    "new_df['pred'] = new_df['message'].apply(lambda x: classification(x))"
   ]
  },
  {
   "cell_type": "code",
   "execution_count": null,
   "id": "5e7c6e66-9670-40af-a6ca-82e0ce78ae80",
   "metadata": {},
   "outputs": [],
   "source": [
    "# проходи по всем значениям столбца \"pred\" и вытаскиваем всё, что расположено между \"label':, '\" и \"', 'score'\"\n",
    "new_df['pred'] = new_df['pred'].apply(lambda x: re.findall(r\"label': '([\\s\\S]+?)', 'score\", str(x), flags = re.I))\n",
    "# поскольку все найденные значения пишутся в квадратных скобках их в итоге тоже необходимо убрать\n",
    "new_df['pred'] = new_df['pred'].apply(lambda x: re.sub(\"[^A-Za-z0-2_]\", \"\", str(x)))"
   ]
  },
  {
   "cell_type": "code",
   "execution_count": null,
   "id": "2daa4fa7-66eb-4935-87a6-b9d8b82f31f3",
   "metadata": {},
   "outputs": [],
   "source": [
    "new_df['pred'] = new_df.pred.replace('neutral', 0).replace('positive', 1).replace('negative', 2)\n",
    "new_df['Target'] = new_df.Target.replace('Neutral', 0).replace('Good', 1).replace('Bad', 2)"
   ]
  },
  {
   "cell_type": "code",
   "execution_count": null,
   "id": "fa8350a9-435c-496b-aaaf-0e7ed33211e8",
   "metadata": {},
   "outputs": [],
   "source": [
    "print(classification_report(pd.to_numeric(new_df['Target']),pd.to_numeric(new_df['pred']),target_names = ['Neutral','Positive','Negative']))"
   ]
  }
 ],
 "metadata": {
  "kernelspec": {
   "display_name": "Python 3 (ipykernel)",
   "language": "python",
   "name": "python3"
  },
  "language_info": {
   "codemirror_mode": {
    "name": "ipython",
    "version": 3
   },
   "file_extension": ".py",
   "mimetype": "text/x-python",
   "name": "python",
   "nbconvert_exporter": "python",
   "pygments_lexer": "ipython3",
   "version": "3.8.0"
  }
 },
 "nbformat": 4,
 "nbformat_minor": 5
}
